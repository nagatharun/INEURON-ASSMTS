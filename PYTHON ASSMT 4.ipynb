{
 "cells": [
  {
   "cell_type": "markdown",
   "metadata": {},
   "source": [
    "1.1  Write a Python Program(with class concepts) to find the area of the triangle using the below\n",
    "formula."
   ]
  },
  {
   "cell_type": "markdown",
   "metadata": {},
   "source": [
    "area = (s*(s-a)*(s-b)*(s-c)) ** 0.5\n",
    "\n",
    "Function to take the length of the sides of triangle from user should be defined in the parent\n",
    "class and function to calculate the area should be defined in subclass."
   ]
  },
  {
   "cell_type": "code",
   "execution_count": 80,
   "metadata": {},
   "outputs": [
    {
     "name": "stdout",
     "output_type": "stream",
     "text": [
      "welcome\n",
      "-------- hi welcome to base class for area  calculatioons  ----\n"
     ]
    },
    {
     "data": {
      "text/plain": [
       "'OUR Area is : 4.898979485566356 '"
      ]
     },
     "execution_count": 80,
     "metadata": {},
     "output_type": "execute_result"
    }
   ],
   "source": [
    "class A:\n",
    "    def __init__(self,s,a,b,c):\n",
    "        print(\"welcome\")\n",
    "        \n",
    "        self.s = s\n",
    "        self.a = a\n",
    "        self.b = b\n",
    "        self.c = c\n",
    "        \n",
    "\n",
    "class B(A):\n",
    "    def area(self):\n",
    "        \n",
    "        print(\"-------- hi welcome to base class for area  calculatioons  ----\")\n",
    "        \n",
    "        return 'OUR Area is : {} '.format((self.s*(self.s-self.a)*(self.s-self.b)*(self.s-self.c))**0.5)\n",
    "    \n",
    "\n",
    "\n",
    "\n",
    "b = B(4,3,2,1)\n",
    "b.area()"
   ]
  },
  {
   "cell_type": "code",
   "execution_count": null,
   "metadata": {},
   "outputs": [],
   "source": []
  },
  {
   "cell_type": "code",
   "execution_count": null,
   "metadata": {},
   "outputs": [],
   "source": []
  },
  {
   "cell_type": "markdown",
   "metadata": {},
   "source": [
    "1.2 Write a function filter_long_words() that takes a list of words and an integer n and returns\n",
    "the list of words that are longer than n."
   ]
  },
  {
   "cell_type": "code",
   "execution_count": 81,
   "metadata": {},
   "outputs": [
    {
     "data": {
      "text/plain": [
       "['welcome']"
      ]
     },
     "execution_count": 81,
     "metadata": {},
     "output_type": "execute_result"
    }
   ],
   "source": [
    "def fil_long_words(s,n):\n",
    "    return [word for word in s if len(word) > n]\n",
    "\n",
    "fil_long_words(['hello','world','welcome'],5)"
   ]
  },
  {
   "cell_type": "code",
   "execution_count": null,
   "metadata": {},
   "outputs": [],
   "source": []
  },
  {
   "cell_type": "code",
   "execution_count": null,
   "metadata": {},
   "outputs": [],
   "source": []
  },
  {
   "cell_type": "markdown",
   "metadata": {},
   "source": [
    "2.1 Write a Python program using function concept that maps list of words into a list of integers\n",
    "representing the lengths of the corresponding words.\n",
    "\n",
    "Hint: If a list [ ab,cde,erty] is passed on to the python function output should come as [2,3,4]\n",
    "Here 2,3 and 4 are the lengths of the words in the list."
   ]
  },
  {
   "cell_type": "code",
   "execution_count": 82,
   "metadata": {},
   "outputs": [
    {
     "name": "stdout",
     "output_type": "stream",
     "text": [
      "[4, 6, 6, 3, 2]\n"
     ]
    }
   ],
   "source": [
    "c = []\n",
    "\n",
    "\n",
    "def low(a):\n",
    "    \n",
    "    for i in a:\n",
    "        c.append(len(i))\n",
    "        \n",
    "        \n",
    "    \n",
    "low(['naga','tharun','worlds','and','of'])\n",
    "\n",
    "print(c)"
   ]
  },
  {
   "cell_type": "code",
   "execution_count": null,
   "metadata": {},
   "outputs": [],
   "source": []
  },
  {
   "cell_type": "code",
   "execution_count": null,
   "metadata": {},
   "outputs": [],
   "source": []
  },
  {
   "cell_type": "code",
   "execution_count": null,
   "metadata": {},
   "outputs": [],
   "source": []
  },
  {
   "cell_type": "markdown",
   "metadata": {},
   "source": [
    "2.2 Write a Python function which takes a character (i.e. a string of length 1) and returns True if\n",
    "it is a vowel, False otherwise."
   ]
  },
  {
   "cell_type": "code",
   "execution_count": 83,
   "metadata": {},
   "outputs": [
    {
     "name": "stdout",
     "output_type": "stream",
     "text": [
      "A  is a vowel\n",
      "E  is a vowel\n",
      "I  is a vowel\n",
      "O  is a vowel\n",
      "U  is a vowel\n",
      "h is not a vowel\n",
      "e  is a vowel\n",
      "l is not a vowel\n",
      "l is not a vowel\n",
      "o  is a vowel\n",
      "f is not a vowel\n",
      "r is not a vowel\n",
      "i  is a vowel\n",
      "e  is a vowel\n",
      "n is not a vowel\n",
      "d is not a vowel\n",
      "a  is a vowel\n",
      "e  is a vowel\n",
      "i  is a vowel\n",
      "o  is a vowel\n",
      "u  is a vowel\n"
     ]
    }
   ],
   "source": [
    "def vowel(char):\n",
    "    \n",
    "    all_vowels = 'AEIOUhellofriendaeiou'\n",
    "    \n",
    "    for char in all_vowels:\n",
    "        \n",
    "        if char=='a':\n",
    "            print('{}  is a vowel'.format(char))\n",
    "        \n",
    "        elif char=='e':\n",
    "            print('{}  is a vowel'.format(char))\n",
    "        \n",
    "        elif char=='i':\n",
    "            print('{}  is a vowel'.format(char))\n",
    "        \n",
    "        elif char=='o':\n",
    "            print('{}  is a vowel'.format(char))\n",
    "        \n",
    "        elif char=='u':\n",
    "            print('{}  is a vowel'.format(char))\n",
    "        \n",
    "        elif char=='A':\n",
    "            print('{}  is a vowel'.format(char))\n",
    "        \n",
    "        elif char=='E':\n",
    "            print('{}  is a vowel'.format(char))\n",
    "        \n",
    "        elif char=='I':\n",
    "            print('{}  is a vowel'.format(char))\n",
    "        \n",
    "        elif char=='O':\n",
    "            print('{}  is a vowel'.format(char))\n",
    "        \n",
    "        elif char=='U':\n",
    "            print('{}  is a vowel'.format(char))\n",
    "        \n",
    "        else:\n",
    "            print('{} is not a vowel'.format(char))\n",
    "\n",
    "vowel('a')\n"
   ]
  },
  {
   "cell_type": "code",
   "execution_count": null,
   "metadata": {},
   "outputs": [],
   "source": []
  }
 ],
 "metadata": {
  "kernelspec": {
   "display_name": "Python 3",
   "language": "python",
   "name": "python3"
  },
  "language_info": {
   "codemirror_mode": {
    "name": "ipython",
    "version": 3
   },
   "file_extension": ".py",
   "mimetype": "text/x-python",
   "name": "python",
   "nbconvert_exporter": "python",
   "pygments_lexer": "ipython3",
   "version": "3.7.7"
  }
 },
 "nbformat": 4,
 "nbformat_minor": 4
}
