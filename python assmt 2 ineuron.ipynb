{
 "cells": [
  {
   "cell_type": "code",
   "execution_count": 2,
   "metadata": {},
   "outputs": [
    {
     "name": "stdout",
     "output_type": "stream",
     "text": [
      "enter no.of rows :  5\n",
      "* \n",
      "* * \n",
      "* * * \n",
      "* * * * \n",
      "* * * * * \n",
      "* * * * \n",
      "* * * \n",
      "* * \n",
      "* \n"
     ]
    }
   ],
   "source": [
    "n = int(input('enter no.of rows :  '))\n",
    "for row in range(0,n):              # rows indexing loop\n",
    "    for j in range(0,row+1):        # columns indexing loop\n",
    "        print(\"*\",end=\" \")          # printing a star and after giving a space for each star prints\n",
    "    print()                         # printing stars in next line i.e row by row\n",
    "    \n",
    "for row in range(n-1,0,-1):        # here i am taking n-1 because of already 5 stars printed and need from next row by 4 and then to  etc etc\n",
    "    for col in range(0,row):\n",
    "        print('*',end=\" \")\n",
    "    print()"
   ]
  },
  {
   "cell_type": "code",
   "execution_count": 1,
   "metadata": {},
   "outputs": [
    {
     "name": "stdout",
     "output_type": "stream",
     "text": [
      "enter no.of rows :  10\n",
      "* \n",
      "* * \n",
      "* * * \n",
      "* * * * \n",
      "* * * * * \n",
      "* * * * * * \n",
      "* * * * * * * \n",
      "* * * * * * * * \n",
      "* * * * * * * * * \n",
      "* * * * * * * * * * \n",
      "* * * * * * * * * \n",
      "* * * * * * * * \n",
      "* * * * * * * \n",
      "* * * * * * \n",
      "* * * * * \n",
      "* * * * \n",
      "* * * \n",
      "* * \n",
      "* \n"
     ]
    }
   ],
   "source": [
    "n = int(input('enter no.of rows :  '))\n",
    "for row in range(0,n):              # rows indexing loop\n",
    "    for j in range(0,row+1):        # columns indexing loop\n",
    "        print(\"*\",end=\" \")          # printing a star and after giving a space for each star prints\n",
    "    print()                         # printing stars in next line i.e row by row\n",
    "    \n",
    "for row in range(n-1,0,-1):        # here i am taking n-1 because of already 5 stars printed and need from next row by 4 and then to  etc etc\n",
    "    for col in range(0,row):\n",
    "        print('*',end=\" \")\n",
    "    print()"
   ]
  },
  {
   "cell_type": "code",
   "execution_count": null,
   "metadata": {},
   "outputs": [],
   "source": []
  }
 ],
 "metadata": {
  "kernelspec": {
   "display_name": "Python 3",
   "language": "python",
   "name": "python3"
  },
  "language_info": {
   "codemirror_mode": {
    "name": "ipython",
    "version": 3
   },
   "file_extension": ".py",
   "mimetype": "text/x-python",
   "name": "python",
   "nbconvert_exporter": "python",
   "pygments_lexer": "ipython3",
   "version": "3.7.7"
  }
 },
 "nbformat": 4,
 "nbformat_minor": 4
}
